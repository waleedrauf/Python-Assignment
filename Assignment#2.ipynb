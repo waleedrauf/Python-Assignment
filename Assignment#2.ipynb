{
 "cells": [
  {
   "cell_type": "code",
   "execution_count": 15,
   "metadata": {},
   "outputs": [
    {
     "name": "stdout",
     "output_type": "stream",
     "text": [
      "Marks in English       : 78\n",
      "Marks in Urdu          : 55\n",
      "Marks in Mathematics   : 54\n",
      "Marks in Islamiat      : 99\n",
      "Marks in Science       : 98\n",
      "Total marks out of 500 : 384\n",
      "Your Grade is A\n"
     ]
    }
   ],
   "source": [
    "# Q1 Marks Sheet for 5 subjects\n",
    "english_marks = int(input (\"Marks in English       : \"))\n",
    "urdu_marks = int(input (\"Marks in Urdu          : \"))\n",
    "mathematics_marks = int(input (\"Marks in Mathematics   : \"))\n",
    "islamiat_marks = int(input (\"Marks in Islamiat      : \"))\n",
    "science_marks = int(input (\"Marks in Science       : \"))\n",
    "total_marks = (english_marks + urdu_marks + mathematics_marks + islamiat_marks + science_marks)\n",
    "print (\"Total marks out of 500 :\",total_marks)\n",
    "per = ((total_marks)/5)\n",
    "\n",
    "if per >= 80 and per <=100:\n",
    "    print (\"Your Grade is A+\")\n",
    "elif per >= 70 and per < 80:\n",
    "    print (\"Your Grade is A\")\n",
    "elif per >= 60 and per < 70:\n",
    "    print (\"Your Grade is B\")\n",
    "elif per >= 50 and per < 60:\n",
    "    print (\"Your Grade is C\")\n",
    "elif per >= 40 and per < 50:\n",
    "    print (\"Your Grade is D\")\n",
    "elif per >= 33 and per < 39 :\n",
    "    print (\"Your Grade is E\")\n",
    "elif per >= 0 and per < 33 :\n",
    "    print (\"Your Grade is F\")\n",
    "else :\n",
    "    print (\"You've given inappropriate %\")"
   ]
  },
  {
   "cell_type": "code",
   "execution_count": 16,
   "metadata": {},
   "outputs": [
    {
     "name": "stdout",
     "output_type": "stream",
     "text": [
      "Enter your number :28\n",
      "Given number is Even.\n"
     ]
    }
   ],
   "source": [
    "# Q2 Even or Odd number\n",
    "number = int(input(\"Enter your number :\"))\n",
    "if (number % 2) == 0:\n",
    "    print (\"Given number is Even.\")\n",
    "else:\n",
    "    print (\"Given number is Odd.\")"
   ]
  },
  {
   "cell_type": "code",
   "execution_count": 18,
   "metadata": {},
   "outputs": [
    {
     "name": "stdout",
     "output_type": "stream",
     "text": [
      "Length of the given list is: 13\n"
     ]
    }
   ],
   "source": [
    "# Q3 numbers of items in the list\n",
    "a = [2, 5, 6, 9, 7, 4, 5, 10, 15, \"Kashif\", \"Ali\", \"+\", \"@\"]\n",
    "b = len (a)\n",
    "print (\"Length of the given list is:\",b)"
   ]
  },
  {
   "cell_type": "code",
   "execution_count": 20,
   "metadata": {},
   "outputs": [
    {
     "name": "stdout",
     "output_type": "stream",
     "text": [
      "Sum of the given list is : 702\n"
     ]
    }
   ],
   "source": [
    "# Q4 To sum all numeric items.\n",
    "li_st = [2 , 5 , 9 , 101 , 99 , 187 , 299]\n",
    "sum_list = sum(li_st)\n",
    "print (\"Sum of the given list is :\",sum_list)"
   ]
  },
  {
   "cell_type": "code",
   "execution_count": 21,
   "metadata": {},
   "outputs": [
    {
     "name": "stdout",
     "output_type": "stream",
     "text": [
      "Largest number in thr list is : 909\n"
     ]
    }
   ],
   "source": [
    "# Q5 To get the largest number in the list.\n",
    "li_st = [285 , 51 , 907 , 110 , 909 , 187 , 299]\n",
    "largest_number = max(li_st)\n",
    "print (\"Largest number in thr list is :\",largest_number)"
   ]
  },
  {
   "cell_type": "code",
   "execution_count": 23,
   "metadata": {},
   "outputs": [
    {
     "data": {
      "text/plain": [
       "[2, 1, 3, 1]"
      ]
     },
     "execution_count": 23,
     "metadata": {},
     "output_type": "execute_result"
    }
   ],
   "source": [
    "# Q6 To get numbers smaller than 5.\n",
    "li_st = [88 , 5 , 2 , 6 , 25 , 1 , 3 , 17 , 1]\n",
    "less_than_5 = filter ((5).__gt__ ,li_st)\n",
    "list (less_than_5)"
   ]
  },
  {
   "cell_type": "code",
   "execution_count": null,
   "metadata": {},
   "outputs": [],
   "source": []
  }
 ],
 "metadata": {
  "kernelspec": {
   "display_name": "Python 3",
   "language": "python",
   "name": "python3"
  },
  "language_info": {
   "codemirror_mode": {
    "name": "ipython",
    "version": 3
   },
   "file_extension": ".py",
   "mimetype": "text/x-python",
   "name": "python",
   "nbconvert_exporter": "python",
   "pygments_lexer": "ipython3",
   "version": "3.7.4"
  }
 },
 "nbformat": 4,
 "nbformat_minor": 2
}
