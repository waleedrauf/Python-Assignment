{
 "cells": [
  {
   "cell_type": "code",
   "execution_count": 2,
   "metadata": {},
   "outputs": [
    {
     "name": "stdin",
     "output_type": "stream",
     "text": [
      "Enter your 1st number : 12\n",
      "Enter your 2nd number : 11\n",
      "Entre your operator : *\n"
     ]
    },
    {
     "name": "stdout",
     "output_type": "stream",
     "text": [
      "12 * 11 = 132\n"
     ]
    }
   ],
   "source": [
    "# Q1\n",
    "\n",
    "a = int(input(\"Enter your 1st number :\"))\n",
    "b = int(input(\"Enter your 2nd number :\")) \n",
    "c = input (\"Entre your operator :\")\n",
    "\n",
    "if c == '*' :\n",
    "    value = a * b\n",
    "    print (a, \"*\", b ,\"=\", value)\n",
    "elif c == '+' :\n",
    "    value = a + b\n",
    "    print (a, \"+\", b ,\"=\", value)\n",
    "elif c == '-' :\n",
    "    value = a - b\n",
    "    print (a, \"-\", b ,\"=\", value)\n",
    "elif c == '/' :\n",
    "    value = a / b\n",
    "    print (a, \"/\", b ,\"=\", \"%.2f\" % value)\n",
    "else :\n",
    "    print (\"Invalid number or command\")"
   ]
  },
  {
   "cell_type": "code",
   "execution_count": 5,
   "metadata": {},
   "outputs": [
    {
     "name": "stdout",
     "output_type": "stream",
     "text": [
      "Integer Exists\n"
     ]
    }
   ],
   "source": [
    "# Q2\n",
    "a = [\"a\", \"d\", 4, 6, \"a1\", 12]\n",
    "for i in a :\n",
    "    if type (i) == int:\n",
    "        print (\"Integer Exists\")\n",
    "        break\n",
    "else :\n",
    "    print (\"Integer doesn't exist\")"
   ]
  },
  {
   "cell_type": "code",
   "execution_count": 7,
   "metadata": {},
   "outputs": [
    {
     "name": "stdout",
     "output_type": "stream",
     "text": [
      "{'f_name': 'Waleed', 'l_name': 'Rauf', 'add': 'Karachi'}\n"
     ]
    }
   ],
   "source": [
    "# Q3\n",
    "d = {\"f_name\" : \"Waleed\", \"l_name\" : \"Rauf\"}\n",
    "d [\"add\"] = \"Karachi\"\n",
    "print (d)"
   ]
  },
  {
   "cell_type": "code",
   "execution_count": 11,
   "metadata": {},
   "outputs": [
    {
     "name": "stdout",
     "output_type": "stream",
     "text": [
      "Sum of integers is : 8\n"
     ]
    }
   ],
   "source": [
    "# Q4\n",
    "d = {\"a\" : 1, \"b\" : 2, \"c\" : \"d\", \"e\" : 5}\n",
    "sum = 0\n",
    "for c in list (d.values()) :\n",
    "    if type (c) == int :\n",
    "        sum += c\n",
    "print (\"Sum of integers is :\", sum)"
   ]
  },
  {
   "cell_type": "code",
   "execution_count": 12,
   "metadata": {},
   "outputs": [
    {
     "name": "stdout",
     "output_type": "stream",
     "text": [
      "[1, 3, 9, 6, 9, 1, 6, 3]\n"
     ]
    }
   ],
   "source": [
    "# Q5\n",
    "list1 = [1,3,9,6,7,8,9,0,1,6,3]\n",
    "list2 = ([x for x in list1 if list1.count(x) > 1])\n",
    "print (list2)"
   ]
  },
  {
   "cell_type": "code",
   "execution_count": 14,
   "metadata": {},
   "outputs": [
    {
     "name": "stdout",
     "output_type": "stream",
     "text": [
      "Key Exists.\n",
      "Key doesn't exist.\n"
     ]
    }
   ],
   "source": [
    "# Q6\n",
    "d = {\"a\" : 1, \"b\" : 2, \"c\" : \"d\", \"e\" : 5}\n",
    "e = \"e\"\n",
    "for i in (d.keys()) :\n",
    "    if e == i :\n",
    "        print (\"Key Exists.\")\n",
    "        break\n",
    "else :\n",
    "    print (\"Key doesn't exist.\")"
   ]
  },
  {
   "cell_type": "code",
   "execution_count": null,
   "metadata": {},
   "outputs": [],
   "source": []
  }
 ],
 "metadata": {
  "kernelspec": {
   "display_name": "Python 3",
   "language": "python",
   "name": "python3"
  },
  "language_info": {
   "codemirror_mode": {
    "name": "ipython",
    "version": 3
   },
   "file_extension": ".py",
   "mimetype": "text/x-python",
   "name": "python",
   "nbconvert_exporter": "python",
   "pygments_lexer": "ipython3",
   "version": "3.7.3"
  }
 },
 "nbformat": 4,
 "nbformat_minor": 4
}
