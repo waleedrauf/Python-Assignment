{
 "cells": [
  {
   "cell_type": "code",
   "execution_count": 14,
   "metadata": {},
   "outputs": [
    {
     "name": "stdout",
     "output_type": "stream",
     "text": [
      "Users first_name is Raja\n",
      "Users last_name is Hassam\n",
      "Users age is 27\n",
      "Users city is New York\n",
      "\n",
      "{'first_name': 'Raja', 'last_name': 'Hassam', 'age': '27', 'city': 'New York', 'Qualification': 'High School'}\n",
      "{'first_name': 'Raja', 'last_name': 'Hassam', 'age': '27', 'city': 'New York', 'Qualification': 'Graduate'}\n",
      "{'first_name': 'Raja', 'last_name': 'Hassam', 'age': '27', 'city': 'New York'}\n"
     ]
    }
   ],
   "source": [
    "# Q1\n",
    "dict1 = {\n",
    "    \"first_name\" : \"Raja\" , \n",
    "    \"last_name\" : \"Hassam\" ,\n",
    "    \"age\" : \"27\" ,\n",
    "    \"city\" : \"New York\"\n",
    "}\n",
    "for keys,values in dict1.items() :\n",
    "    print (\"Users \" +keys+ \" is \" +values)\n",
    "print ()\n",
    "\n",
    "# New key value\n",
    "n_key = \"Qualification\"\n",
    "dict1[n_key] = \"High School\"\n",
    "print (dict1)\n",
    "\n",
    "#Updating qualification\n",
    "dict1[n_key] = \"Graduate\"\n",
    "print (dict1)\n",
    "\n",
    "#Deleting the update\n",
    "del dict1[n_key]\n",
    "print (dict1)"
   ]
  },
  {
   "cell_type": "code",
   "execution_count": 2,
   "metadata": {},
   "outputs": [
    {
     "name": "stdout",
     "output_type": "stream",
     "text": [
      "Toronto's country is Canada.\n",
      "Toronto's population is 2.93 million.\n",
      "Toronto's fact is Toronto is Canadas largest city .\n",
      "\n",
      "New York's country is USA.\n",
      "New York's population is 8.90 million.\n",
      "New York's fact is It is the most densely populated city.\n",
      "\n",
      "Karachi's country is Pakistan.\n",
      "Karachi's population is 14.9 million.\n",
      "Karachi's fact is It is the most populous city in Pakistan.\n",
      "\n"
     ]
    }
   ],
   "source": [
    "#Q2\n",
    "toronto = {'country':'Canada','population':'2.93 million','fact':'Toronto is Canadas largest city '}\n",
    "new_jersy = {'country':'USA','population':'8.90 million','fact':'It is the most densely populated city'}\n",
    "karachi = {'country':'Pakistan','population':'14.9 million','fact':'It is the most populous city in Pakistan'}\n",
    "\n",
    "cities = {'Toronto' : toronto,\n",
    "          'New York' : new_jersy,\n",
    "          'Karachi' : karachi\n",
    "         }\n",
    "\n",
    "for city_key in cities.keys():\n",
    "    for key,value in cities[city_key].items():\n",
    "        print(city_key+\"'s \"+key+' is '+value+'.')\n",
    "    print()"
   ]
  },
  {
   "cell_type": "code",
   "execution_count": 4,
   "metadata": {},
   "outputs": [
    {
     "name": "stdout",
     "output_type": "stream",
     "text": [
      "please enter age (enter 0 for exit): 27\n",
      "Your Ticket price is $15\n",
      "\n",
      "please enter age (enter 0 for exit): 0\n",
      "Program Ended.\n"
     ]
    }
   ],
   "source": [
    "#Q3\n",
    "for x in range(9999):\n",
    "    age = int(input(\"please enter age (enter 0 for exit): \"))\n",
    "    if age == 0: \n",
    "        print(\"Program Ended.\")\n",
    "        break\n",
    "    elif age < 0:\n",
    "        print(\"Invalid entry.\",end='\\n\\n')\n",
    "    else:\n",
    "        ticket=None\n",
    "        if age < 3:\n",
    "            ticket='Free'\n",
    "        elif age <= 12:\n",
    "            ticket='$10'\n",
    "        else:\n",
    "            ticket='$15'\n",
    "        print(\"Your Ticket price is \"+ticket,end='\\n\\n')"
   ]
  },
  {
   "cell_type": "code",
   "execution_count": 5,
   "metadata": {},
   "outputs": [
    {
     "name": "stdout",
     "output_type": "stream",
     "text": [
      "One of my favorite books is Kashf-al-Mahjoob.\n"
     ]
    }
   ],
   "source": [
    "#Q4\n",
    "def favorite_book(title):\n",
    "    print(\"One of my favorite books is \"+title+\".\")\n",
    "\n",
    "favorite_book('Kashf-al-Mahjoob')"
   ]
  },
  {
   "cell_type": "code",
   "execution_count": 7,
   "metadata": {},
   "outputs": [
    {
     "name": "stdout",
     "output_type": "stream",
     "text": [
      "Tries Left: 3\n",
      "Please enter any number: 6\n",
      "Incorrect Guess. Correct Number is greater than 6 .\n",
      "\n",
      "Tries Left: 2\n",
      "Please enter any number: 15\n",
      "Incorrect Guess. Correct Number is greater than 15 .\n",
      "\n",
      "Tries Left: 1\n",
      "Please enter any number: 2\n",
      "Incorrect Guess. Correct Number is 25\n",
      "\n"
     ]
    }
   ],
   "source": [
    "#Q5\n",
    "import random\n",
    "randomno = random.randint(1,31)\n",
    "for x in range(3):\n",
    "    print('Tries Left:',(3-x))\n",
    "    user_input = int(input('Please enter any number: '))\n",
    "    if randomno == user_input:\n",
    "        print(\"Your Guess is Correct!\")\n",
    "    else:\n",
    "        print(\"Incorrect Guess.\",end=' ')\n",
    "        if x==2:\n",
    "            print(\"Correct Number is\",randomno)\n",
    "        elif randomno > user_input:\n",
    "            print(\"Correct Number is greater than\",str(user_input),\".\")\n",
    "        elif randomno < user_input:\n",
    "            print(\"Correct Number is lesser than\",str(user_input),\".\")\n",
    "    print()"
   ]
  },
  {
   "cell_type": "code",
   "execution_count": null,
   "metadata": {},
   "outputs": [],
   "source": []
  }
 ],
 "metadata": {
  "kernelspec": {
   "display_name": "Python 3",
   "language": "python",
   "name": "python3"
  },
  "language_info": {
   "codemirror_mode": {
    "name": "ipython",
    "version": 3
   },
   "file_extension": ".py",
   "mimetype": "text/x-python",
   "name": "python",
   "nbconvert_exporter": "python",
   "pygments_lexer": "ipython3",
   "version": "3.7.4"
  }
 },
 "nbformat": 4,
 "nbformat_minor": 2
}
