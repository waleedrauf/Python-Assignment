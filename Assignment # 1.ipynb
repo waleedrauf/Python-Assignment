{
 "cells": [
  {
   "cell_type": "code",
   "execution_count": 1,
   "metadata": {},
   "outputs": [
    {
     "name": "stdout",
     "output_type": "stream",
     "text": [
      "Twinkle, twinkle, little star,\n",
      "\tHow I wonder what you are!\n",
      "\t\tUp above the world so high,\n",
      "\t\tLike a diamond in the sky.\n",
      "Twinkle, twinkle, little star,\n",
      "\tHow I wonder what you are\n"
     ]
    }
   ],
   "source": [
    "# Q1\n",
    "first_line = \"Twinkle, twinkle, little star,\\n\"\n",
    "second_line = \"\\tHow I wonder what you are\"\n",
    "third_line = \"\\n\\t\\tUp above the world so high,\\n\"\n",
    "fourth_line = \"\\t\\tLike a diamond in the sky.\\n\"\n",
    "print (first_line + second_line + \"!\" + third_line + fourth_line + first_line + second_line)"
   ]
  },
  {
   "cell_type": "code",
   "execution_count": 2,
   "metadata": {},
   "outputs": [
    {
     "name": "stdout",
     "output_type": "stream",
     "text": [
      "Current version of python is :\n",
      "3.7.4 (default, Aug  9 2019, 18:34:13) [MSC v.1915 64 bit (AMD64)]\n"
     ]
    }
   ],
   "source": [
    "# Q2\n",
    "import sys\n",
    "print (\"Current version of python is :\")\n",
    "print (sys.version)"
   ]
  },
  {
   "cell_type": "code",
   "execution_count": 3,
   "metadata": {},
   "outputs": [
    {
     "name": "stdout",
     "output_type": "stream",
     "text": [
      "Date & Time is: = 2019-11-03 17:14:18\n"
     ]
    }
   ],
   "source": [
    "# Q3\n",
    "import datetime\n",
    "now = datetime.datetime.now()\n",
    "print(\"Date & Time is: =\", now.strftime(\"%Y-%m-%d %H:%M:%S\"))"
   ]
  },
  {
   "cell_type": "code",
   "execution_count": 4,
   "metadata": {},
   "outputs": [
    {
     "name": "stdout",
     "output_type": "stream",
     "text": [
      "Entre the radius of circle :12\n",
      "452.39\n"
     ]
    }
   ],
   "source": [
    "# Q4\n",
    "import math\n",
    "pi = math.pi\n",
    "r = float(input(\"Entre the radius of circle :\" ))\n",
    "#aoc = Area of Cirle\n",
    "aoc = pi*r**2\n",
    "aoc = float (\"%0.2f\" % (aoc))\n",
    "print (aoc)"
   ]
  },
  {
   "cell_type": "code",
   "execution_count": 5,
   "metadata": {},
   "outputs": [
    {
     "name": "stdout",
     "output_type": "stream",
     "text": [
      "Enter first name :Waleed\n",
      "Enter last name :Rauf\n",
      "Rauf Waleed\n"
     ]
    }
   ],
   "source": [
    "# Q5\n",
    "first_name = input(\"Enter first name :\")\n",
    "last_name = input(\"Enter last name :\")\n",
    "print (last_name + \" \" + first_name)"
   ]
  },
  {
   "cell_type": "code",
   "execution_count": 6,
   "metadata": {},
   "outputs": [
    {
     "name": "stdout",
     "output_type": "stream",
     "text": [
      "Entre 1st number to add =299\n",
      "Entre 2nd number to add =1\n",
      "The sum is = 300\n"
     ]
    }
   ],
   "source": [
    "# Q6\n",
    "first_number = int(input (\"Entre 1st number to add =\"))\n",
    "second_number = int(input (\"Entre 2nd number to add =\"))\n",
    "print (\"The sum is =\", first_number + second_number)"
   ]
  },
  {
   "cell_type": "code",
   "execution_count": null,
   "metadata": {},
   "outputs": [],
   "source": []
  }
 ],
 "metadata": {
  "kernelspec": {
   "display_name": "Python 3",
   "language": "python",
   "name": "python3"
  },
  "language_info": {
   "codemirror_mode": {
    "name": "ipython",
    "version": 3
   },
   "file_extension": ".py",
   "mimetype": "text/x-python",
   "name": "python",
   "nbconvert_exporter": "python",
   "pygments_lexer": "ipython3",
   "version": "3.7.4"
  }
 },
 "nbformat": 4,
 "nbformat_minor": 2
}
