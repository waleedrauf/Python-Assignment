{
 "cells": [
  {
   "cell_type": "code",
   "execution_count": 1,
   "metadata": {},
   "outputs": [
    {
     "name": "stdout",
     "output_type": "stream",
     "text": [
      "5\n",
      "120\n"
     ]
    }
   ],
   "source": [
    "# Q1\n",
    "def factorial(num):\n",
    "    result=1\n",
    "    for x in range(1,num+1):\n",
    "        result*=x\n",
    "    print(result)    \n",
    "\n",
    "factorial(int(input()))"
   ]
  },
  {
   "cell_type": "code",
   "execution_count": 2,
   "metadata": {},
   "outputs": [
    {
     "name": "stdout",
     "output_type": "stream",
     "text": [
      "waLeEd\n",
      "upper case letters:  2\n",
      "lower case letters:  4\n"
     ]
    }
   ],
   "source": [
    "# Q2\n",
    "def counter(text):\n",
    "    upper=0\n",
    "    lower=0\n",
    "    text=list(text)\n",
    "    for x in text:\n",
    "        tmp=ord(x)\n",
    "        if tmp >= 97 and tmp <= 122:\n",
    "            lower+=1\n",
    "        elif tmp >= 65 and tmp <= 90:\n",
    "            upper+=1\n",
    "            \n",
    "    print('upper case letters: ',upper)\n",
    "    print('lower case letters: ',lower)\n",
    "counter(input())"
   ]
  },
  {
   "cell_type": "code",
   "execution_count": 3,
   "metadata": {},
   "outputs": [
    {
     "name": "stdout",
     "output_type": "stream",
     "text": [
      "6 8 "
     ]
    }
   ],
   "source": [
    "# Q3\n",
    "def evencount(num):\n",
    "    for x in num:\n",
    "        if x%2==0:\n",
    "            print(x,end=' ')\n",
    "        \n",
    "list1 = [1,3,41,23,7,6,8,21]\n",
    "evencount(list1)"
   ]
  },
  {
   "cell_type": "code",
   "execution_count": 4,
   "metadata": {},
   "outputs": [
    {
     "name": "stdout",
     "output_type": "stream",
     "text": [
      "radar is palindrome.\n",
      "abcd is not palindrome.\n"
     ]
    }
   ],
   "source": [
    "# Q4\n",
    "def palcheck(text):\n",
    "    tmp = text[::-1]\n",
    "    if tmp == text:\n",
    "        print(text,'is palindrome.')\n",
    "    else:\n",
    "        print(text,'is not palindrome.')\n",
    "        \n",
    "palcheck('radar')\n",
    "palcheck('abcd')"
   ]
  },
  {
   "cell_type": "code",
   "execution_count": 6,
   "metadata": {},
   "outputs": [
    {
     "name": "stdout",
     "output_type": "stream",
     "text": [
      "29 is prime.\n",
      "18 is not prime.\n"
     ]
    }
   ],
   "source": [
    "# Q5\n",
    "def primecheck(num):\n",
    "    flag=True\n",
    "    for x in range(2,(num//2)+1):\n",
    "        if (num%x) == 0.0:\n",
    "            flag=False\n",
    "    if(flag):\n",
    "        print(num, 'is prime.')\n",
    "    else:\n",
    "        print(num,'is not prime.')\n",
    "\n",
    "primecheck(29)\n",
    "primecheck(18)"
   ]
  },
  {
   "cell_type": "code",
   "execution_count": 7,
   "metadata": {},
   "outputs": [
    {
     "name": "stdout",
     "output_type": "stream",
     "text": [
      "['banana', 'pineapple', 'bread', 'bittersour', 'cucumber']\n"
     ]
    }
   ],
   "source": [
    "# Q6\n",
    "def my_shop_list(*lists):\n",
    "    temp=[]\n",
    "    for x in lists:\n",
    "        temp.extend(x)\n",
    "    print(temp)\n",
    "\n",
    "list1=['banana','pineapple','bread']\n",
    "list2=['bittersour','cucumber']\n",
    "my_shop_list(list1,list2)"
   ]
  },
  {
   "cell_type": "code",
   "execution_count": null,
   "metadata": {},
   "outputs": [],
   "source": []
  }
 ],
 "metadata": {
  "kernelspec": {
   "display_name": "Python 3",
   "language": "python",
   "name": "python3"
  },
  "language_info": {
   "codemirror_mode": {
    "name": "ipython",
    "version": 3
   },
   "file_extension": ".py",
   "mimetype": "text/x-python",
   "name": "python",
   "nbconvert_exporter": "python",
   "pygments_lexer": "ipython3",
   "version": "3.7.4"
  }
 },
 "nbformat": 4,
 "nbformat_minor": 2
}
